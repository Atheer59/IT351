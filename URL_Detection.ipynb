{
  "cells": [
    {
      "cell_type": "markdown",
      "metadata": {
        "id": "view-in-github",
        "colab_type": "text"
      },
      "source": [
        "<a href=\"https://colab.research.google.com/github/Atheer59/IT351/blob/main/URL_Detection.ipynb\" target=\"_parent\"><img src=\"https://colab.research.google.com/assets/colab-badge.svg\" alt=\"Open In Colab\"/></a>"
      ]
    },
    {
      "cell_type": "markdown",
      "id": "f41546c8",
      "metadata": {
        "id": "f41546c8"
      },
      "source": [
        "#  URL Detection \n",
        "\n",
        "The Internet has become an indispensable part of\n",
        "our life, However, It also has provided opportunities to anonymously perform malicious activities like Phishing. Phishers try to deceive their victims by social engineering or creating mockup websites to steal information such as account ID, username, password from individuals and organizations. Although many methods have been proposed to detect phishing websites, Phishers have evolved their methods to escape from these detection methods. One of the most successful methods for detecting these malicious activities is Machine Learning. This is because most Phishing attacks have some common characteristics which can be identified by machine learning methods. "
      ]
    },
    {
      "cell_type": "code",
      "execution_count": null,
      "id": "51ca7313",
      "metadata": {
        "id": "51ca7313"
      },
      "outputs": [],
      "source": [
        "#importing required libraries\n",
        "\n",
        "import numpy as np\n",
        "import pandas as pd\n",
        "import matplotlib.pyplot as plt\n",
        "%matplotlib inline\n",
        "import seaborn as sns\n",
        "from sklearn import metrics \n",
        "import warnings\n",
        "warnings.filterwarnings('ignore')"
      ]
    },
    {
      "cell_type": "markdown",
      "id": "7db94f12",
      "metadata": {
        "id": "7db94f12"
      },
      "source": [
        "## 1. Loading Data:\n",
        "\n"
      ]
    },
    {
      "cell_type": "markdown",
      "source": [
        "Dataset was borrowed from kaggle\n",
        "\n",
        "https://www.kaggle.com/datasets/sid321axn/malicious-urls-dataset"
      ],
      "metadata": {
        "id": "eWfCylE4BhLR"
      },
      "id": "eWfCylE4BhLR"
    },
    {
      "cell_type": "code",
      "execution_count": null,
      "id": "ec491f22",
      "metadata": {
        "id": "ec491f22",
        "outputId": "74abf008-b96b-4c40-bc39-38e88335e2b1",
        "colab": {
          "base_uri": "https://localhost:8080/",
          "height": 206
        }
      },
      "outputs": [
        {
          "output_type": "execute_result",
          "data": {
            "text/plain": [
              "                                                 url        type\n",
              "0                                   br-icloud.com.br    phishing\n",
              "1                mp3raid.com/music/krizz_kaliko.html      benign\n",
              "2                    bopsecrets.org/rexroth/cr/1.htm      benign\n",
              "3  http://www.garage-pirenne.be/index.php?option=...  defacement\n",
              "4  http://adventure-nicaragua.net/index.php?optio...  defacement"
            ],
            "text/html": [
              "\n",
              "  <div id=\"df-91c75824-85f4-44fa-8136-315cb6eef7e0\">\n",
              "    <div class=\"colab-df-container\">\n",
              "      <div>\n",
              "<style scoped>\n",
              "    .dataframe tbody tr th:only-of-type {\n",
              "        vertical-align: middle;\n",
              "    }\n",
              "\n",
              "    .dataframe tbody tr th {\n",
              "        vertical-align: top;\n",
              "    }\n",
              "\n",
              "    .dataframe thead th {\n",
              "        text-align: right;\n",
              "    }\n",
              "</style>\n",
              "<table border=\"1\" class=\"dataframe\">\n",
              "  <thead>\n",
              "    <tr style=\"text-align: right;\">\n",
              "      <th></th>\n",
              "      <th>url</th>\n",
              "      <th>type</th>\n",
              "    </tr>\n",
              "  </thead>\n",
              "  <tbody>\n",
              "    <tr>\n",
              "      <th>0</th>\n",
              "      <td>br-icloud.com.br</td>\n",
              "      <td>phishing</td>\n",
              "    </tr>\n",
              "    <tr>\n",
              "      <th>1</th>\n",
              "      <td>mp3raid.com/music/krizz_kaliko.html</td>\n",
              "      <td>benign</td>\n",
              "    </tr>\n",
              "    <tr>\n",
              "      <th>2</th>\n",
              "      <td>bopsecrets.org/rexroth/cr/1.htm</td>\n",
              "      <td>benign</td>\n",
              "    </tr>\n",
              "    <tr>\n",
              "      <th>3</th>\n",
              "      <td>http://www.garage-pirenne.be/index.php?option=...</td>\n",
              "      <td>defacement</td>\n",
              "    </tr>\n",
              "    <tr>\n",
              "      <th>4</th>\n",
              "      <td>http://adventure-nicaragua.net/index.php?optio...</td>\n",
              "      <td>defacement</td>\n",
              "    </tr>\n",
              "  </tbody>\n",
              "</table>\n",
              "</div>\n",
              "      <button class=\"colab-df-convert\" onclick=\"convertToInteractive('df-91c75824-85f4-44fa-8136-315cb6eef7e0')\"\n",
              "              title=\"Convert this dataframe to an interactive table.\"\n",
              "              style=\"display:none;\">\n",
              "        \n",
              "  <svg xmlns=\"http://www.w3.org/2000/svg\" height=\"24px\"viewBox=\"0 0 24 24\"\n",
              "       width=\"24px\">\n",
              "    <path d=\"M0 0h24v24H0V0z\" fill=\"none\"/>\n",
              "    <path d=\"M18.56 5.44l.94 2.06.94-2.06 2.06-.94-2.06-.94-.94-2.06-.94 2.06-2.06.94zm-11 1L8.5 8.5l.94-2.06 2.06-.94-2.06-.94L8.5 2.5l-.94 2.06-2.06.94zm10 10l.94 2.06.94-2.06 2.06-.94-2.06-.94-.94-2.06-.94 2.06-2.06.94z\"/><path d=\"M17.41 7.96l-1.37-1.37c-.4-.4-.92-.59-1.43-.59-.52 0-1.04.2-1.43.59L10.3 9.45l-7.72 7.72c-.78.78-.78 2.05 0 2.83L4 21.41c.39.39.9.59 1.41.59.51 0 1.02-.2 1.41-.59l7.78-7.78 2.81-2.81c.8-.78.8-2.07 0-2.86zM5.41 20L4 18.59l7.72-7.72 1.47 1.35L5.41 20z\"/>\n",
              "  </svg>\n",
              "      </button>\n",
              "      \n",
              "  <style>\n",
              "    .colab-df-container {\n",
              "      display:flex;\n",
              "      flex-wrap:wrap;\n",
              "      gap: 12px;\n",
              "    }\n",
              "\n",
              "    .colab-df-convert {\n",
              "      background-color: #E8F0FE;\n",
              "      border: none;\n",
              "      border-radius: 50%;\n",
              "      cursor: pointer;\n",
              "      display: none;\n",
              "      fill: #1967D2;\n",
              "      height: 32px;\n",
              "      padding: 0 0 0 0;\n",
              "      width: 32px;\n",
              "    }\n",
              "\n",
              "    .colab-df-convert:hover {\n",
              "      background-color: #E2EBFA;\n",
              "      box-shadow: 0px 1px 2px rgba(60, 64, 67, 0.3), 0px 1px 3px 1px rgba(60, 64, 67, 0.15);\n",
              "      fill: #174EA6;\n",
              "    }\n",
              "\n",
              "    [theme=dark] .colab-df-convert {\n",
              "      background-color: #3B4455;\n",
              "      fill: #D2E3FC;\n",
              "    }\n",
              "\n",
              "    [theme=dark] .colab-df-convert:hover {\n",
              "      background-color: #434B5C;\n",
              "      box-shadow: 0px 1px 3px 1px rgba(0, 0, 0, 0.15);\n",
              "      filter: drop-shadow(0px 1px 2px rgba(0, 0, 0, 0.3));\n",
              "      fill: #FFFFFF;\n",
              "    }\n",
              "  </style>\n",
              "\n",
              "      <script>\n",
              "        const buttonEl =\n",
              "          document.querySelector('#df-91c75824-85f4-44fa-8136-315cb6eef7e0 button.colab-df-convert');\n",
              "        buttonEl.style.display =\n",
              "          google.colab.kernel.accessAllowed ? 'block' : 'none';\n",
              "\n",
              "        async function convertToInteractive(key) {\n",
              "          const element = document.querySelector('#df-91c75824-85f4-44fa-8136-315cb6eef7e0');\n",
              "          const dataTable =\n",
              "            await google.colab.kernel.invokeFunction('convertToInteractive',\n",
              "                                                     [key], {});\n",
              "          if (!dataTable) return;\n",
              "\n",
              "          const docLinkHtml = 'Like what you see? Visit the ' +\n",
              "            '<a target=\"_blank\" href=https://colab.research.google.com/notebooks/data_table.ipynb>data table notebook</a>'\n",
              "            + ' to learn more about interactive tables.';\n",
              "          element.innerHTML = '';\n",
              "          dataTable['output_type'] = 'display_data';\n",
              "          await google.colab.output.renderOutput(dataTable, element);\n",
              "          const docLink = document.createElement('div');\n",
              "          docLink.innerHTML = docLinkHtml;\n",
              "          element.appendChild(docLink);\n",
              "        }\n",
              "      </script>\n",
              "    </div>\n",
              "  </div>\n",
              "  "
            ]
          },
          "metadata": {},
          "execution_count": 2
        }
      ],
      "source": [
        "#Loading data into dataframe\n",
        "\n",
        "data = pd.read_csv(\"malicious_phish.csv\")\n",
        "data.head()"
      ]
    },
    {
      "cell_type": "markdown",
      "id": "0413b490",
      "metadata": {
        "id": "0413b490"
      },
      "source": [
        "## 2. Familiarizing with Data & EDA:\n",
        "In this step, few dataframe methods are used to look into the data and its features."
      ]
    },
    {
      "cell_type": "code",
      "execution_count": null,
      "id": "9ccdddc5",
      "metadata": {
        "id": "9ccdddc5",
        "outputId": "43863a20-c66d-43ca-d6f7-7e1d16ebc57d",
        "colab": {
          "base_uri": "https://localhost:8080/"
        }
      },
      "outputs": [
        {
          "output_type": "execute_result",
          "data": {
            "text/plain": [
              "(651191, 2)"
            ]
          },
          "metadata": {},
          "execution_count": 3
        }
      ],
      "source": [
        "#Shape of dataframe\n",
        "\n",
        "data.shape"
      ]
    },
    {
      "cell_type": "code",
      "execution_count": null,
      "id": "c1e2ca3b",
      "metadata": {
        "id": "c1e2ca3b",
        "outputId": "bb679bc9-05c7-46b2-ceea-c4cd724d10fc",
        "colab": {
          "base_uri": "https://localhost:8080/"
        }
      },
      "outputs": [
        {
          "output_type": "execute_result",
          "data": {
            "text/plain": [
              "Index(['url', 'type'], dtype='object')"
            ]
          },
          "metadata": {},
          "execution_count": 4
        }
      ],
      "source": [
        "#Listing the features of the dataset\n",
        "\n",
        "data.columns"
      ]
    },
    {
      "cell_type": "code",
      "execution_count": null,
      "id": "8ec005bb",
      "metadata": {
        "id": "8ec005bb",
        "outputId": "661076c1-ee3d-4405-80c5-46fb334ecbc1",
        "colab": {
          "base_uri": "https://localhost:8080/"
        }
      },
      "outputs": [
        {
          "output_type": "stream",
          "name": "stdout",
          "text": [
            "<class 'pandas.core.frame.DataFrame'>\n",
            "RangeIndex: 651191 entries, 0 to 651190\n",
            "Data columns (total 2 columns):\n",
            " #   Column  Non-Null Count   Dtype \n",
            "---  ------  --------------   ----- \n",
            " 0   url     651191 non-null  object\n",
            " 1   type    651191 non-null  object\n",
            "dtypes: object(2)\n",
            "memory usage: 9.9+ MB\n"
          ]
        }
      ],
      "source": [
        "#Information about the dataset\n",
        "\n",
        "data.info()"
      ]
    },
    {
      "cell_type": "code",
      "execution_count": null,
      "id": "18c1e021",
      "metadata": {
        "id": "18c1e021",
        "outputId": "aabfbe0f-33a8-4a97-81c3-56085d96d041",
        "colab": {
          "base_uri": "https://localhost:8080/"
        }
      },
      "outputs": [
        {
          "output_type": "execute_result",
          "data": {
            "text/plain": [
              "url     641119\n",
              "type         4\n",
              "dtype: int64"
            ]
          },
          "metadata": {},
          "execution_count": 6
        }
      ],
      "source": [
        "# nunique value in columns\n",
        "\n",
        "data.nunique()"
      ]
    },
    {
      "cell_type": "code",
      "execution_count": null,
      "id": "d4c7df9b",
      "metadata": {
        "id": "d4c7df9b",
        "outputId": "9ec8dcb4-9b7e-4e86-b257-47d48d3e133b",
        "colab": {
          "base_uri": "https://localhost:8080/",
          "height": 112
        }
      },
      "outputs": [
        {
          "output_type": "execute_result",
          "data": {
            "text/plain": [
              "       count  unique                                                top  \\\n",
              "url   651191  641119  http://style.org.hc360.com/css/detail/mysite/s...   \n",
              "type  651191       4                                             benign   \n",
              "\n",
              "        freq  \n",
              "url      180  \n",
              "type  428103  "
            ],
            "text/html": [
              "\n",
              "  <div id=\"df-5b88bee7-401c-48e4-aaa6-4b8a95b3d35f\">\n",
              "    <div class=\"colab-df-container\">\n",
              "      <div>\n",
              "<style scoped>\n",
              "    .dataframe tbody tr th:only-of-type {\n",
              "        vertical-align: middle;\n",
              "    }\n",
              "\n",
              "    .dataframe tbody tr th {\n",
              "        vertical-align: top;\n",
              "    }\n",
              "\n",
              "    .dataframe thead th {\n",
              "        text-align: right;\n",
              "    }\n",
              "</style>\n",
              "<table border=\"1\" class=\"dataframe\">\n",
              "  <thead>\n",
              "    <tr style=\"text-align: right;\">\n",
              "      <th></th>\n",
              "      <th>count</th>\n",
              "      <th>unique</th>\n",
              "      <th>top</th>\n",
              "      <th>freq</th>\n",
              "    </tr>\n",
              "  </thead>\n",
              "  <tbody>\n",
              "    <tr>\n",
              "      <th>url</th>\n",
              "      <td>651191</td>\n",
              "      <td>641119</td>\n",
              "      <td>http://style.org.hc360.com/css/detail/mysite/s...</td>\n",
              "      <td>180</td>\n",
              "    </tr>\n",
              "    <tr>\n",
              "      <th>type</th>\n",
              "      <td>651191</td>\n",
              "      <td>4</td>\n",
              "      <td>benign</td>\n",
              "      <td>428103</td>\n",
              "    </tr>\n",
              "  </tbody>\n",
              "</table>\n",
              "</div>\n",
              "      <button class=\"colab-df-convert\" onclick=\"convertToInteractive('df-5b88bee7-401c-48e4-aaa6-4b8a95b3d35f')\"\n",
              "              title=\"Convert this dataframe to an interactive table.\"\n",
              "              style=\"display:none;\">\n",
              "        \n",
              "  <svg xmlns=\"http://www.w3.org/2000/svg\" height=\"24px\"viewBox=\"0 0 24 24\"\n",
              "       width=\"24px\">\n",
              "    <path d=\"M0 0h24v24H0V0z\" fill=\"none\"/>\n",
              "    <path d=\"M18.56 5.44l.94 2.06.94-2.06 2.06-.94-2.06-.94-.94-2.06-.94 2.06-2.06.94zm-11 1L8.5 8.5l.94-2.06 2.06-.94-2.06-.94L8.5 2.5l-.94 2.06-2.06.94zm10 10l.94 2.06.94-2.06 2.06-.94-2.06-.94-.94-2.06-.94 2.06-2.06.94z\"/><path d=\"M17.41 7.96l-1.37-1.37c-.4-.4-.92-.59-1.43-.59-.52 0-1.04.2-1.43.59L10.3 9.45l-7.72 7.72c-.78.78-.78 2.05 0 2.83L4 21.41c.39.39.9.59 1.41.59.51 0 1.02-.2 1.41-.59l7.78-7.78 2.81-2.81c.8-.78.8-2.07 0-2.86zM5.41 20L4 18.59l7.72-7.72 1.47 1.35L5.41 20z\"/>\n",
              "  </svg>\n",
              "      </button>\n",
              "      \n",
              "  <style>\n",
              "    .colab-df-container {\n",
              "      display:flex;\n",
              "      flex-wrap:wrap;\n",
              "      gap: 12px;\n",
              "    }\n",
              "\n",
              "    .colab-df-convert {\n",
              "      background-color: #E8F0FE;\n",
              "      border: none;\n",
              "      border-radius: 50%;\n",
              "      cursor: pointer;\n",
              "      display: none;\n",
              "      fill: #1967D2;\n",
              "      height: 32px;\n",
              "      padding: 0 0 0 0;\n",
              "      width: 32px;\n",
              "    }\n",
              "\n",
              "    .colab-df-convert:hover {\n",
              "      background-color: #E2EBFA;\n",
              "      box-shadow: 0px 1px 2px rgba(60, 64, 67, 0.3), 0px 1px 3px 1px rgba(60, 64, 67, 0.15);\n",
              "      fill: #174EA6;\n",
              "    }\n",
              "\n",
              "    [theme=dark] .colab-df-convert {\n",
              "      background-color: #3B4455;\n",
              "      fill: #D2E3FC;\n",
              "    }\n",
              "\n",
              "    [theme=dark] .colab-df-convert:hover {\n",
              "      background-color: #434B5C;\n",
              "      box-shadow: 0px 1px 3px 1px rgba(0, 0, 0, 0.15);\n",
              "      filter: drop-shadow(0px 1px 2px rgba(0, 0, 0, 0.3));\n",
              "      fill: #FFFFFF;\n",
              "    }\n",
              "  </style>\n",
              "\n",
              "      <script>\n",
              "        const buttonEl =\n",
              "          document.querySelector('#df-5b88bee7-401c-48e4-aaa6-4b8a95b3d35f button.colab-df-convert');\n",
              "        buttonEl.style.display =\n",
              "          google.colab.kernel.accessAllowed ? 'block' : 'none';\n",
              "\n",
              "        async function convertToInteractive(key) {\n",
              "          const element = document.querySelector('#df-5b88bee7-401c-48e4-aaa6-4b8a95b3d35f');\n",
              "          const dataTable =\n",
              "            await google.colab.kernel.invokeFunction('convertToInteractive',\n",
              "                                                     [key], {});\n",
              "          if (!dataTable) return;\n",
              "\n",
              "          const docLinkHtml = 'Like what you see? Visit the ' +\n",
              "            '<a target=\"_blank\" href=https://colab.research.google.com/notebooks/data_table.ipynb>data table notebook</a>'\n",
              "            + ' to learn more about interactive tables.';\n",
              "          element.innerHTML = '';\n",
              "          dataTable['output_type'] = 'display_data';\n",
              "          await google.colab.output.renderOutput(dataTable, element);\n",
              "          const docLink = document.createElement('div');\n",
              "          docLink.innerHTML = docLinkHtml;\n",
              "          element.appendChild(docLink);\n",
              "        }\n",
              "      </script>\n",
              "    </div>\n",
              "  </div>\n",
              "  "
            ]
          },
          "metadata": {},
          "execution_count": 7
        }
      ],
      "source": [
        "#description of dataset\n",
        "\n",
        "data.describe().T"
      ]
    },
    {
      "cell_type": "markdown",
      "id": "d1cda572",
      "metadata": {
        "id": "d1cda572"
      },
      "source": [
        "## 3. Visualizing the data:\n",
        "Few plots and graphs are displayed to find how the data is distributed and the how features are related to each other."
      ]
    },
    {
      "cell_type": "code",
      "source": [
        "sns.boxplot(x=\"type\",y=\"url\",data=data)\n"
      ],
      "metadata": {
        "id": "wJMm1OmM6vyX"
      },
      "id": "wJMm1OmM6vyX",
      "execution_count": null,
      "outputs": []
    },
    {
      "cell_type": "code",
      "execution_count": null,
      "id": "1999dba3",
      "metadata": {
        "id": "1999dba3",
        "outputId": "191bad18-d084-4b6c-c708-e0a225445bf5",
        "colab": {
          "base_uri": "https://localhost:8080/",
          "height": 264
        }
      },
      "outputs": [
        {
          "output_type": "display_data",
          "data": {
            "text/plain": [
              "<Figure size 432x288 with 1 Axes>"
            ],
            "image/png": "[encoded data removed]"
          },
          "metadata": {}
        }
      ],
      "source": [
        "# URL Count in pie chart\n",
        "\n",
        "data['type'].value_counts().plot(kind='pie',autopct='%1.2f%%')\n",
        "plt.title(\"Malicious Count\")\n",
        "plt.show()"
      ]
    },
    {
      "cell_type": "markdown",
      "id": "3eee8c08",
      "metadata": {
        "id": "3eee8c08"
      },
      "source": [
        "## 4. Splitting the Data:\n",
        "The data is split into train & test sets, 80-20 split."
      ]
    },
    {
      "cell_type": "code",
      "execution_count": null,
      "id": "f3d90a24",
      "metadata": {
        "id": "f3d90a24"
      },
      "outputs": [],
      "source": [
        "# Splitting the dataset into dependant and independant fetature\n",
        "\n",
        "X = data.drop([\"type\"],axis =1)\n",
        "y = data[\"type\"]"
      ]
    },
    {
      "cell_type": "code",
      "execution_count": null,
      "id": "9de941d7",
      "metadata": {
        "id": "9de941d7",
        "outputId": "c9ebca6a-2ecf-42b5-8aa6-7a5f8b56eb11",
        "colab": {
          "base_uri": "https://localhost:8080/"
        }
      },
      "outputs": [
        {
          "output_type": "execute_result",
          "data": {
            "text/plain": [
              "((520952, 1), (520952,), (130239, 1), (130239,))"
            ]
          },
          "metadata": {},
          "execution_count": 18
        }
      ],
      "source": [
        "# Splitting the dataset into train and test sets: 80-20 split\n",
        "\n",
        "from sklearn.model_selection import train_test_split\n",
        "\n",
        "X_train, X_test, y_train, y_test = train_test_split(X, y, test_size = 0.2, random_state = 42)\n",
        "X_train.shape, y_train.shape, X_test.shape, y_test.shape"
      ]
    },
    {
      "cell_type": "code",
      "execution_count": null,
      "id": "55ac1416",
      "metadata": {
        "id": "55ac1416"
      },
      "outputs": [],
      "source": [
        "# Creating holders to store the model performance results\n",
        "ML_Model = []\n",
        "accuracy = []\n",
        "f1_score = []\n",
        "recall = []\n",
        "precision = []\n",
        "\n",
        "#function to call for storing the results\n",
        "def storeResults(model, a,b,c,d):\n",
        "  ML_Model.append(model)\n",
        "  accuracy.append(round(a, 3))\n",
        "  f1_score.append(round(b, 3))\n",
        "  recall.append(round(c, 3))\n",
        "  precision.append(round(d, 3))"
      ]
    },
    {
      "cell_type": "markdown",
      "id": "94a3a5bf",
      "metadata": {
        "id": "94a3a5bf"
      },
      "source": [
        "## 5.2. K-Nearest Neighbors : Classifier\n",
        "\n",
        "K-Nearest Neighbour is one of the simplest Machine Learning algorithms based on Supervised Learning technique. K-NN algorithm assumes the similarity between the new case/data and available cases and put the new case into the category that is most similar to the available categories."
      ]
    },
    {
      "cell_type": "code",
      "execution_count": null,
      "id": "fcdb78be",
      "metadata": {
        "id": "fcdb78be",
        "outputId": "d965f44c-b372-4d44-bc01-edad87550847",
        "colab": {
          "base_uri": "https://localhost:8080/"
        }
      },
      "outputs": [
        {
          "output_type": "execute_result",
          "data": {
            "text/plain": [
              "KNeighborsClassifier(n_neighbors=1)"
            ]
          },
          "metadata": {},
          "execution_count": 31
        }
      ],
      "source": [
        "# K-Nearest Neighbors Classifier model\n",
        "from sklearn.neighbors import KNeighborsClassifier\n",
        "from sklearn.preprocessing import OrdinalEncoder\n",
        "encoder = OrdinalEncoder()\n",
        "education_encoded = encoder.fit_transform(X_train)\n",
        "\n",
        "# instantiate the model\n",
        "knn = KNeighborsClassifier(n_neighbors=1)\n",
        "\n",
        "# fit the model \n",
        "knn.fit(education_encoded,y_train)"
      ]
    },
    {
      "cell_type": "code",
      "execution_count": null,
      "id": "269c61e7",
      "metadata": {
        "id": "269c61e7"
      },
      "outputs": [],
      "source": [
        "#predicting the target value from the model for the samples\n",
        "y_train_knn = knn.predict(education_encoded)\n",
        "encoded1 = encoder.fit_transform(X_test)\n",
        "y_test_knn = knn.predict(encoded1)"
      ]
    },
    {
      "cell_type": "code",
      "execution_count": null,
      "id": "77d9c3bf",
      "metadata": {
        "id": "77d9c3bf",
        "outputId": "dc50f66c-bf8e-4be4-bce6-748ce6471ad2",
        "colab": {
          "base_uri": "https://localhost:8080/"
        }
      },
      "outputs": [
        {
          "output_type": "stream",
          "name": "stdout",
          "text": [
            "K-Nearest Neighbors : Accuracy on training Data: 1.000\n",
            "K-Nearest Neighbors : Accuracy on test Data: 0.620\n",
            "\n",
            "K-Nearest Neighbors : f1_score on training Data: 1.000\n",
            "K-Nearest Neighbors : f1_score on test Data: 0.620\n",
            "\n",
            "K-Nearest Neighborsn : Recall on training Data: 1.000\n",
            "Logistic Regression : Recall on test Data: 0.620\n",
            "\n",
            "K-Nearest Neighbors : precision on training Data: 1.000\n",
            "K-Nearest Neighbors : precision on test Data: 0.620\n"
          ]
        }
      ],
      "source": [
        "#computing the accuracy,f1_score,Recall,precision of the model performance\n",
        "\n",
        "acc_train_knn = metrics.accuracy_score(y_train,y_train_knn)\n",
        "acc_test_knn = metrics.accuracy_score(y_test,y_test_knn)\n",
        "print(\"K-Nearest Neighbors : Accuracy on training Data: {:.3f}\".format(acc_train_knn))\n",
        "print(\"K-Nearest Neighbors : Accuracy on test Data: {:.3f}\".format(acc_test_knn))\n",
        "print()\n",
        "\n",
        "f1_score_train_knn = metrics.f1_score(y_train,y_train_knn,average='micro')\n",
        "f1_score_test_knn = metrics.f1_score(y_test,y_test_knn,average='micro')\n",
        "print(\"K-Nearest Neighbors : f1_score on training Data: {:.3f}\".format(f1_score_train_knn))\n",
        "print(\"K-Nearest Neighbors : f1_score on test Data: {:.3f}\".format(f1_score_test_knn))\n",
        "print()\n",
        "\n",
        "recall_score_train_knn = metrics.recall_score(y_train,y_train_knn,average='micro')\n",
        "recall_score_test_knn = metrics.recall_score(y_test,y_test_knn,average='micro')\n",
        "print(\"K-Nearest Neighborsn : Recall on training Data: {:.3f}\".format(recall_score_train_knn))\n",
        "print(\"Logistic Regression : Recall on test Data: {:.3f}\".format(recall_score_test_knn))\n",
        "print()\n",
        "\n",
        "precision_score_train_knn = metrics.precision_score(y_train,y_train_knn,average='micro')\n",
        "precision_score_test_knn = metrics.precision_score(y_test,y_test_knn,average='micro')\n",
        "print(\"K-Nearest Neighbors : precision on training Data: {:.3f}\".format(precision_score_train_knn))\n",
        "print(\"K-Nearest Neighbors : precision on test Data: {:.3f}\".format(precision_score_test_knn))"
      ]
    },
    {
      "cell_type": "code",
      "execution_count": null,
      "id": "f6a6658f",
      "metadata": {
        "id": "f6a6658f",
        "outputId": "cfaf69bc-b526-46a3-bad1-b478e229b24e",
        "colab": {
          "base_uri": "https://localhost:8080/"
        }
      },
      "outputs": [
        {
          "output_type": "stream",
          "name": "stdout",
          "text": [
            "              precision    recall  f1-score   support\n",
            "\n",
            "      benign       0.66      0.93      0.77     85778\n",
            "  defacement       0.00      0.00      0.00     19104\n",
            "     malware       0.07      0.00      0.01      6521\n",
            "    phishing       0.13      0.07      0.09     18836\n",
            "\n",
            "    accuracy                           0.62    130239\n",
            "   macro avg       0.22      0.25      0.22    130239\n",
            "weighted avg       0.46      0.62      0.52    130239\n",
            "\n"
          ]
        }
      ],
      "source": [
        "#computing the classification report of the model\n",
        "\n",
        "print(metrics.classification_report(y_test, y_test_knn))"
      ]
    },
    {
      "cell_type": "code",
      "execution_count": null,
      "id": "d4dc5c1b",
      "metadata": {
        "id": "d4dc5c1b",
        "outputId": "4e6be19b-f569-4665-d661-ecf781ca8e68",
        "colab": {
          "base_uri": "https://localhost:8080/",
          "height": 280
        }
      },
      "outputs": [
        {
          "output_type": "display_data",
          "data": {
            "text/plain": [
              "<Figure size 432x288 with 1 Axes>"
            ],
            "image/png": "[encoded data removed]"
          },
          "metadata": {
            "needs_background": "light"
          }
        }
      ],
      "source": [
        "training_accuracy = []\n",
        "test_accuracy = []\n",
        "# try max_depth from 1 to 20\n",
        "depth = range(1,20)\n",
        "for n in depth:\n",
        "    knn = KNeighborsClassifier(n_neighbors=n)\n",
        "\n",
        "    knn.fit(education_encoded, y_train)\n",
        "    # record training set accuracy\n",
        "    training_accuracy.append(knn.score(education_encoded, y_train))\n",
        "    # record generalization accuracy\n",
        "    test_accuracy.append(knn.score(encoded1, y_test))\n",
        "    \n",
        "\n",
        "#plotting the training & testing accuracy for n_estimators from 1 to 20\n",
        "plt.plot(depth, training_accuracy, label=\"training accuracy\")\n",
        "plt.plot(depth, test_accuracy, label=\"test accuracy\")\n",
        "plt.ylabel(\"Accuracy\")  \n",
        "plt.xlabel(\"n_neighbors\")\n",
        "plt.legend();"
      ]
    }
  ],
  "metadata": {
    "kernelspec": {
      "display_name": "Python 3 (ipykernel)",
      "language": "python",
      "name": "python3"
    },
    "language_info": {
      "codemirror_mode": {
        "name": "ipython",
        "version": 3
      },
      "file_extension": ".py",
      "mimetype": "text/x-python",
      "name": "python",
      "nbconvert_exporter": "python",
      "pygments_lexer": "ipython3",
      "version": "3.8.6"
    },
    "vscode": {
      "interpreter": {
        "hash": "a4868653bb6f8972e87e4c446ab8a445a15b25dedb8594cc74c480f8152ea86a"
      }
    },
    "colab": {
      "provenance": [],
      "include_colab_link": true
    }
  },
  "nbformat": 4,
  "nbformat_minor": 5
}